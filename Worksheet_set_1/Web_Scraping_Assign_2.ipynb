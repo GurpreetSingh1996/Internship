{
 "cells": [
  {
   "cell_type": "markdown",
   "id": "7ab6b17f",
   "metadata": {},
   "source": [
    "# Naukri Data Analyst"
   ]
  },
  {
   "cell_type": "code",
   "execution_count": null,
   "id": "92cdc81d",
   "metadata": {
    "scrolled": true
   },
   "outputs": [],
   "source": [
    "!pip install selenium"
   ]
  },
  {
   "cell_type": "code",
   "execution_count": null,
   "id": "cc91dcb5",
   "metadata": {},
   "outputs": [],
   "source": [
    "import selenium\n",
    "from selenium import webdriver\n",
    "from selenium.webdriver.common.by import By\n",
    "import pandas as pd\n",
    "import warnings\n",
    "warnings.filterwarnings(\"ignore\")"
   ]
  },
  {
   "cell_type": "code",
   "execution_count": null,
   "id": "9e5f1e0a",
   "metadata": {},
   "outputs": [],
   "source": [
    "driver = webdriver.Chrome(r'C:\\Users\\gurpr\\Downloads\\chromedriver_win32\\chromedriver.exe')"
   ]
  },
  {
   "cell_type": "code",
   "execution_count": null,
   "id": "fd8d0a7d",
   "metadata": {},
   "outputs": [],
   "source": [
    "driver = webdriver.Chrome('chromedriver.exe')"
   ]
  },
  {
   "cell_type": "code",
   "execution_count": null,
   "id": "02882752",
   "metadata": {},
   "outputs": [],
   "source": [
    "url = 'https://www.naukri.com/'\n",
    "driver.get(url)"
   ]
  },
  {
   "cell_type": "code",
   "execution_count": null,
   "id": "5bd6791d",
   "metadata": {},
   "outputs": [],
   "source": [
    "search_job = driver.find_elements(By.XPATH, \"/html/body/div[1]/div[2]/div[3]/div/div/div[1]/div/div/div/input\")\n",
    "search_job"
   ]
  },
  {
   "cell_type": "code",
   "execution_count": null,
   "id": "ed33f92c",
   "metadata": {},
   "outputs": [],
   "source": [
    "search_job.send_keys(\"Data Analyst\")"
   ]
  },
  {
   "cell_type": "code",
   "execution_count": null,
   "id": "cf2c97b2",
   "metadata": {},
   "outputs": [],
   "source": [
    "search_locn = driver.find_elements(By.XPATH, \"/html/body/div[1]/div[2]/div[3]/div/div/div[5]/div/div/div/input\")\n",
    "search_locn"
   ]
  },
  {
   "cell_type": "code",
   "execution_count": null,
   "id": "69725fe0",
   "metadata": {},
   "outputs": [],
   "source": [
    "search_locn.send_keys(\"Banglore\")"
   ]
  },
  {
   "cell_type": "code",
   "execution_count": null,
   "id": "e8a55536",
   "metadata": {},
   "outputs": [],
   "source": [
    "search_btn = driver.find_elements(By.XPATH,\"/html/body/div[1]/div[2]/div[3]/div/div/div[6]\")\n",
    "search_btn"
   ]
  },
  {
   "cell_type": "code",
   "execution_count": null,
   "id": "d22bff58",
   "metadata": {},
   "outputs": [],
   "source": [
    "search_btn.click()"
   ]
  },
  {
   "cell_type": "code",
   "execution_count": null,
   "id": "a543d3bf",
   "metadata": {},
   "outputs": [],
   "source": [
    "title_tags = driver.find_elements(By.XPATH,\"/html/body/div[1]/div[3]/div[2]/section[2]/div[2]/article[1]/div[1]/div/a\")\n",
    "len(title_tags)"
   ]
  },
  {
   "cell_type": "code",
   "execution_count": null,
   "id": "7ceaae99",
   "metadata": {
    "scrolled": true
   },
   "outputs": [],
   "source": [
    "job_titles = []\n",
    "\n",
    "for i in title_tags:\n",
    "    job_titles.append(i.text)\n",
    "len(job_titles)"
   ]
  },
  {
   "cell_type": "code",
   "execution_count": null,
   "id": "1b4fe3aa",
   "metadata": {},
   "outputs": [],
   "source": [
    "exp_tags = driver.find_elements(By.XPATH,\"/html/body/div[1]/div[3]/div[2]/section[2]/div[2]/article[1]/div[1]/div/ul/li[1]\")\n",
    "len(exp_tags)"
   ]
  },
  {
   "cell_type": "code",
   "execution_count": null,
   "id": "c76c97cd",
   "metadata": {},
   "outputs": [],
   "source": [
    "experience = []\n",
    "\n",
    "for i in exp_tags:\n",
    "    experience.append(i.text)\n",
    "len(experience)"
   ]
  },
  {
   "cell_type": "code",
   "execution_count": null,
   "id": "2d0ca71e",
   "metadata": {},
   "outputs": [],
   "source": [
    "loc_tags = driver.find_elements(By.XPATH,\"/html/body/div[1]/div[3]/div[2]/section[2]/div[2]/article[1]/div[1]/div/ul/li[3]\")\n",
    "len(loc_tags)"
   ]
  },
  {
   "cell_type": "code",
   "execution_count": null,
   "id": "a49f049e",
   "metadata": {},
   "outputs": [],
   "source": [
    "location = []\n",
    "\n",
    "for i in loc_tags:\n",
    "    location.append(i.text)\n",
    "len(location)"
   ]
  },
  {
   "cell_type": "code",
   "execution_count": null,
   "id": "04322c52",
   "metadata": {},
   "outputs": [],
   "source": [
    "name_tags = driver.find_elements(By.XPATH,\"/html/body/div[1]/div[3]/div[2]/section[2]/div[2]/article[1]/div[1]/div/div/a[1]\")\n",
    "len(name_tags)"
   ]
  },
  {
   "cell_type": "code",
   "execution_count": null,
   "id": "e94d3ce9",
   "metadata": {},
   "outputs": [],
   "source": [
    "company_names = []\n",
    "\n",
    "for i in name_tags:\n",
    "    company_names.append(i.text)\n",
    "len(company_names)"
   ]
  },
  {
   "cell_type": "code",
   "execution_count": null,
   "id": "d2c45ab8",
   "metadata": {},
   "outputs": [],
   "source": [
    "len(title_tags),len(company_names),len(location),len(experience)"
   ]
  },
  {
   "cell_type": "code",
   "execution_count": null,
   "id": "abb2a5f5",
   "metadata": {},
   "outputs": [],
   "source": [
    "jobs= pd.DataFrame()\n",
    "jobs['Job titles'] = job_titles\n",
    "jobs['Location'] = location\n",
    "jobs[' Comapny name'] = company_names\n",
    "jobs['Experience'] = experience"
   ]
  },
  {
   "cell_type": "code",
   "execution_count": null,
   "id": "b00e323a",
   "metadata": {},
   "outputs": [],
   "source": [
    "jobs[0:10]"
   ]
  },
  {
   "cell_type": "markdown",
   "id": "4ce12de6",
   "metadata": {},
   "source": [
    "# Naukri Data Scientist"
   ]
  },
  {
   "cell_type": "code",
   "execution_count": null,
   "id": "7f305d47",
   "metadata": {},
   "outputs": [],
   "source": [
    "import selenium\n",
    "from selenium import webdriver\n",
    "from selenium.webdriver.common.by import By\n",
    "import pandas as pd\n",
    "import warnings\n",
    "warnings.filterwarnings(\"ignore\")"
   ]
  },
  {
   "cell_type": "code",
   "execution_count": null,
   "id": "7bb8bbf0",
   "metadata": {},
   "outputs": [],
   "source": [
    "driver = webdriver.Chrome(r'C:\\Users\\gurpr\\Downloads\\chromedriver_win32\\chromedriver.exe')"
   ]
  },
  {
   "cell_type": "code",
   "execution_count": null,
   "id": "2e6301ce",
   "metadata": {},
   "outputs": [],
   "source": [
    "url = 'https://www.naukri.com/'\n",
    "driver.get(url)"
   ]
  },
  {
   "cell_type": "code",
   "execution_count": null,
   "id": "e6a65fbf",
   "metadata": {},
   "outputs": [],
   "source": [
    "search_job = driver.find_elements(By.XPATH, \"/html/body/div[1]/div[2]/div[3]/div/div/div[1]/div/div/div/input\")\n",
    "search_job"
   ]
  },
  {
   "cell_type": "code",
   "execution_count": null,
   "id": "3ba130f3",
   "metadata": {},
   "outputs": [],
   "source": [
    "search_job.send_keys(\"Data Scientist\")"
   ]
  },
  {
   "cell_type": "code",
   "execution_count": null,
   "id": "d1667ec4",
   "metadata": {},
   "outputs": [],
   "source": [
    "search_locn = driver.find_elements(By.XPATH, \"/html/body/div[1]/div[2]/div[3]/div/div/div[5]/div/div/div/input\")\n",
    "search_locn"
   ]
  },
  {
   "cell_type": "code",
   "execution_count": null,
   "id": "f7b0927c",
   "metadata": {},
   "outputs": [],
   "source": [
    "search_locn.send_keys(\"Banglore\")"
   ]
  },
  {
   "cell_type": "code",
   "execution_count": null,
   "id": "4fd0a975",
   "metadata": {},
   "outputs": [],
   "source": [
    "search_btn = driver.find_elements(By.XPATH,\"/html/body/div[1]/div[2]/div[3]/div/div/div[6]\")\n",
    "search_btn"
   ]
  },
  {
   "cell_type": "code",
   "execution_count": null,
   "id": "139027fa",
   "metadata": {},
   "outputs": [],
   "source": [
    "search_btn.click()"
   ]
  },
  {
   "cell_type": "code",
   "execution_count": null,
   "id": "0f64edab",
   "metadata": {},
   "outputs": [],
   "source": [
    "title_tags = driver.find_elements(By.XPATH,\"/html/body/div[1]/div[3]/div[2]/section[2]/div[2]/article[1]/div[1]/div[1]/a\")\n",
    "len(title_tags)"
   ]
  },
  {
   "cell_type": "code",
   "execution_count": null,
   "id": "9d6a70a1",
   "metadata": {
    "scrolled": true
   },
   "outputs": [],
   "source": [
    "job_titles = []\n",
    "\n",
    "for i in title_tags:\n",
    "    job_titles.append(i.text)\n",
    "len(job_titles)"
   ]
  },
  {
   "cell_type": "code",
   "execution_count": null,
   "id": "1b831999",
   "metadata": {},
   "outputs": [],
   "source": [
    "exp_tags = driver.find_elements(By.XPATH,\"/html/body/div[1]/div[3]/div[2]/section[2]/div[2]/article[1]/div[1]/div[1]/ul/li[1]/span\")\n",
    "len(exp_tags)"
   ]
  },
  {
   "cell_type": "code",
   "execution_count": null,
   "id": "eb6a6fa0",
   "metadata": {},
   "outputs": [],
   "source": [
    "experience = []\n",
    "\n",
    "for i in exp_tags:\n",
    "    experience.append(i.text)\n",
    "len(experience)"
   ]
  },
  {
   "cell_type": "code",
   "execution_count": null,
   "id": "17034168",
   "metadata": {},
   "outputs": [],
   "source": [
    "loc_tags = driver.find_elements(By.XPATH,\"/html/body/div[1]/div[3]/div[2]/section[2]/div[2]/article[1]/div[1]/div[1]/ul/li[3]/span\")\n",
    "len(loc_tags)"
   ]
  },
  {
   "cell_type": "code",
   "execution_count": null,
   "id": "c7753453",
   "metadata": {},
   "outputs": [],
   "source": [
    "location = []\n",
    "\n",
    "for i in loc_tags:\n",
    "    location.append(i.text)\n",
    "len(location)"
   ]
  },
  {
   "cell_type": "code",
   "execution_count": null,
   "id": "00537968",
   "metadata": {},
   "outputs": [],
   "source": [
    "name_tags = driver.find_elements(By.XPATH,\"/html/body/div[1]/div[3]/div[2]/section[2]/div[2]/article[1]/div[1]/div[1]/div/a[1]\")\n",
    "len(name_tags)"
   ]
  },
  {
   "cell_type": "code",
   "execution_count": null,
   "id": "36dd63ca",
   "metadata": {},
   "outputs": [],
   "source": [
    "company_names = []\n",
    "\n",
    "for i in name_tags:\n",
    "    company_names.append(i.text)\n",
    "len(company_names)"
   ]
  },
  {
   "cell_type": "code",
   "execution_count": null,
   "id": "7cb561e4",
   "metadata": {},
   "outputs": [],
   "source": [
    "len(title_tags),len(company_names),len(location),len(experience)"
   ]
  },
  {
   "cell_type": "code",
   "execution_count": null,
   "id": "7183ea88",
   "metadata": {},
   "outputs": [],
   "source": [
    "jobs= pd.DataFrame()\n",
    "jobs['Job titles'] = job_titles\n",
    "jobs['Location'] = location\n",
    "jobs[' Comapny name'] = company_names\n",
    "jobs['Experience'] = experience"
   ]
  },
  {
   "cell_type": "code",
   "execution_count": null,
   "id": "d7f14602",
   "metadata": {},
   "outputs": [],
   "source": [
    "jobs[0:10]"
   ]
  },
  {
   "cell_type": "markdown",
   "id": "7c270afb",
   "metadata": {},
   "source": [
    "# Naukri Data scientist Delhi 3-6lakhs"
   ]
  },
  {
   "cell_type": "code",
   "execution_count": null,
   "id": "a2a2d660",
   "metadata": {},
   "outputs": [],
   "source": [
    "import selenium\n",
    "from selenium import webdriver\n",
    "from selenium.webdriver.common.by import By\n",
    "import pandas as pd\n",
    "import warnings\n",
    "warnings.filterwarnings(\"ignore\")"
   ]
  },
  {
   "cell_type": "code",
   "execution_count": null,
   "id": "c25e2194",
   "metadata": {},
   "outputs": [],
   "source": [
    "driver = webdriver.Chrome(r'C:\\Users\\gurpr\\Downloads\\chromedriver_win32\\chromedriver.exe')"
   ]
  },
  {
   "cell_type": "code",
   "execution_count": null,
   "id": "ac72ea31",
   "metadata": {},
   "outputs": [],
   "source": [
    "url = 'https://www.naukri.com/'\n",
    "driver.get(url)"
   ]
  },
  {
   "cell_type": "code",
   "execution_count": null,
   "id": "522c85ba",
   "metadata": {},
   "outputs": [],
   "source": [
    "search_job = driver.find_elements(By.XPATH, \"/html/body/div[1]/div[2]/div[3]/div/div/div[1]/div/div/div/input\")\n",
    "search_job"
   ]
  },
  {
   "cell_type": "code",
   "execution_count": null,
   "id": "961e540e",
   "metadata": {},
   "outputs": [],
   "source": [
    "search_job.send_keys(\"Data Scientist\")"
   ]
  },
  {
   "cell_type": "code",
   "execution_count": null,
   "id": "a175275d",
   "metadata": {},
   "outputs": [],
   "source": [
    "search_locn = driver.find_elements(By.XPATH, \"/html/body/div[1]/div[2]/div[3]/div/div/div[5]/div/div/div/input\")\n",
    "search_locn"
   ]
  },
  {
   "cell_type": "code",
   "execution_count": null,
   "id": "4de4b9ba",
   "metadata": {},
   "outputs": [],
   "source": [
    "search_locn.send_keys(\"Delhi/NCR\")"
   ]
  },
  {
   "cell_type": "code",
   "execution_count": null,
   "id": "60154fd9",
   "metadata": {},
   "outputs": [],
   "source": [
    "search_btn = driver.find_elements(By.XPATH,\"/html/body/div[1]/div[2]/div[3]/div/div/div[6]\")\n",
    "search_btn"
   ]
  },
  {
   "cell_type": "code",
   "execution_count": null,
   "id": "112e1d92",
   "metadata": {},
   "outputs": [],
   "source": [
    "search_btn.click()"
   ]
  },
  {
   "cell_type": "code",
   "execution_count": null,
   "id": "878c7546",
   "metadata": {},
   "outputs": [],
   "source": [
    "salary_check = driver.find_elements(By.XPATH, \"/html/body/div[1]/div[3]/div[2]/section[1]/div[2]/div[5]/div[2]/div[2]/label/i\")\n",
    "salary_check.click()"
   ]
  },
  {
   "cell_type": "code",
   "execution_count": null,
   "id": "514c557e",
   "metadata": {},
   "outputs": [],
   "source": [
    "title_tags = driver.find_elements(By.XPATH,\"/html/body/div[1]/div[3]/div[2]/section[2]/div[2]/article[1]/div[1]/div[1]/a\")\n",
    "len(title_tags)"
   ]
  },
  {
   "cell_type": "code",
   "execution_count": null,
   "id": "000b2388",
   "metadata": {
    "scrolled": true
   },
   "outputs": [],
   "source": [
    "job_titles = []\n",
    "\n",
    "for i in title_tags:\n",
    "    job_titles.append(i.text)\n",
    "len(job_titles)"
   ]
  },
  {
   "cell_type": "code",
   "execution_count": null,
   "id": "5753c928",
   "metadata": {},
   "outputs": [],
   "source": [
    "exp_tags = driver.find_elements(By.XPATH,\"/html/body/div[1]/div[3]/div[2]/section[2]/div[2]/article[1]/div[1]/div[1]/ul/li[1]/span\")\n",
    "len(exp_tags)"
   ]
  },
  {
   "cell_type": "code",
   "execution_count": null,
   "id": "95224431",
   "metadata": {},
   "outputs": [],
   "source": [
    "experience = []\n",
    "\n",
    "for i in exp_tags:\n",
    "    experience.append(i.text)\n",
    "len(experience)"
   ]
  },
  {
   "cell_type": "code",
   "execution_count": null,
   "id": "fe8fea43",
   "metadata": {},
   "outputs": [],
   "source": [
    "loc_tags = driver.find_elements(By.XPATH,\"/html/body/div[1]/div[3]/div[2]/section[2]/div[2]/article[1]/div[1]/div[1]/ul/li[3]/span\")\n",
    "len(loc_tags)"
   ]
  },
  {
   "cell_type": "code",
   "execution_count": null,
   "id": "28dbe86e",
   "metadata": {},
   "outputs": [],
   "source": [
    "location = []\n",
    "\n",
    "for i in loc_tags:\n",
    "    location.append(i.text)\n",
    "len(location)"
   ]
  },
  {
   "cell_type": "code",
   "execution_count": null,
   "id": "eacb9ce7",
   "metadata": {},
   "outputs": [],
   "source": [
    "name_tags = driver.find_elements(By.XPATH,\"/html/body/div[1]/div[3]/div[2]/section[2]/div[2]/article[1]/div[1]/div[1]/div/a[1]\")\n",
    "len(name_tags)"
   ]
  },
  {
   "cell_type": "code",
   "execution_count": null,
   "id": "b3011e4d",
   "metadata": {},
   "outputs": [],
   "source": [
    "company_names = []\n",
    "\n",
    "for i in name_tags:\n",
    "    company_names.append(i.text)\n",
    "len(company_names)"
   ]
  },
  {
   "cell_type": "code",
   "execution_count": null,
   "id": "b42bb56d",
   "metadata": {},
   "outputs": [],
   "source": [
    "len(title_tags),len(company_names),len(location),len(experience)"
   ]
  },
  {
   "cell_type": "code",
   "execution_count": null,
   "id": "34ebd0a1",
   "metadata": {},
   "outputs": [],
   "source": [
    "jobs= pd.DataFrame()\n",
    "jobs['Job titles'] = job_titles\n",
    "jobs['Location'] = location\n",
    "jobs[' Comapny name'] = company_names\n",
    "jobs['Experience'] = experience"
   ]
  },
  {
   "cell_type": "code",
   "execution_count": null,
   "id": "2d78e049",
   "metadata": {},
   "outputs": [],
   "source": [
    "jobs[0:10]"
   ]
  },
  {
   "cell_type": "markdown",
   "id": "c5e52b92",
   "metadata": {},
   "source": [
    "# Flipkart Sunglasses "
   ]
  },
  {
   "cell_type": "code",
   "execution_count": null,
   "id": "b6a9a200",
   "metadata": {},
   "outputs": [],
   "source": [
    "!pip install selenium"
   ]
  },
  {
   "cell_type": "code",
   "execution_count": null,
   "id": "0b9333a8",
   "metadata": {},
   "outputs": [],
   "source": [
    "import selenium\n",
    "from selenium import webdriver\n",
    "from selenium.webdriver.common.by import By\n",
    "import pandas as pd\n",
    "import warnings\n",
    "warnings.filterwarnings(\"ignore\")"
   ]
  },
  {
   "cell_type": "code",
   "execution_count": null,
   "id": "cbf7f7f1",
   "metadata": {},
   "outputs": [],
   "source": [
    "driver = webdriver.Chrome(r'C:\\Users\\gurpr\\Downloads\\chromedriver_win32\\chromedriver.exe')"
   ]
  },
  {
   "cell_type": "code",
   "execution_count": null,
   "id": "d5f05b67",
   "metadata": {},
   "outputs": [],
   "source": [
    "url = 'https://www.flipkart.com/'\n",
    "driver.get(url)"
   ]
  },
  {
   "cell_type": "code",
   "execution_count": null,
   "id": "ff8534f6",
   "metadata": {},
   "outputs": [],
   "source": [
    "search = driver.find_element(By.XPATH, \"/html/body/div[1]/div/div[1]/div[1]/div[2]/div[2]/form/div/div/input\")\n",
    "search"
   ]
  },
  {
   "cell_type": "code",
   "execution_count": null,
   "id": "71f493de",
   "metadata": {},
   "outputs": [],
   "source": [
    "search.send_keys(\"Sunglasses\")"
   ]
  },
  {
   "cell_type": "code",
   "execution_count": null,
   "id": "2d3024ef",
   "metadata": {},
   "outputs": [],
   "source": [
    "search_btn = driver.find_element(By.XPATH, \"/html/body/div[1]/div/div[1]/div[1]/div[2]/div[2]/form/div/button\")\n",
    "search_btn"
   ]
  },
  {
   "cell_type": "code",
   "execution_count": null,
   "id": "5c67e4e5",
   "metadata": {},
   "outputs": [],
   "source": [
    "search_btn.click()"
   ]
  },
  {
   "cell_type": "code",
   "execution_count": null,
   "id": "dcd5ceec",
   "metadata": {},
   "outputs": [],
   "source": [
    "brand = driver.find_element(By.XPATH,\"/html/body/div[1]/div/div[3]/div[1]/div[2]/div[2]/div/div[1]/div/div[2]/div[1]\")\n",
    "len(brand)"
   ]
  },
  {
   "cell_type": "code",
   "execution_count": null,
   "id": "4b4ae782",
   "metadata": {
    "scrolled": true
   },
   "outputs": [],
   "source": [
    "brand_name = []\n",
    "\n",
    "for i in brand:\n",
    "    brand_name.append(i.text)\n",
    "len(brand_name)"
   ]
  },
  {
   "cell_type": "code",
   "execution_count": null,
   "id": "0a4b01c8",
   "metadata": {},
   "outputs": [],
   "source": [
    "desc = driver.find_element(By.XPATH,\"/html/body/div[1]/div/div[3]/div[1]/div[2]/div[2]/div/div[1]/div/div[2]/a[1]\")\n",
    "len(desc)"
   ]
  },
  {
   "cell_type": "code",
   "execution_count": null,
   "id": "163ddfb2",
   "metadata": {},
   "outputs": [],
   "source": [
    "description = []\n",
    "\n",
    "for i in desc:\n",
    "    description.append(i.text)\n",
    "len(description)"
   ]
  },
  {
   "cell_type": "code",
   "execution_count": null,
   "id": "290c44fe",
   "metadata": {},
   "outputs": [],
   "source": [
    "off = driver.find_element(By.XPATH,\"/html/body/div[1]/div/div[3]/div[1]/div[2]/div[2]/div/div[1]/div/div[2]/a[2]/div/div[3]\")\n",
    "len(off)"
   ]
  },
  {
   "cell_type": "code",
   "execution_count": null,
   "id": "9b47601e",
   "metadata": {},
   "outputs": [],
   "source": [
    "discount = []\n",
    "\n",
    "for i in off:\n",
    "    discount.append(i.text)\n",
    "len(discount)"
   ]
  },
  {
   "cell_type": "code",
   "execution_count": null,
   "id": "cdcc61ba",
   "metadata": {},
   "outputs": [],
   "source": [
    "rs = driver.find_element(By.XPATH,\"/html/body/div[1]/div/div[3]/div[1]/div[2]/div[2]/div/div[1]/div/div[2]/a[2]/div/div[1]\")\n",
    "len(rs)"
   ]
  },
  {
   "cell_type": "code",
   "execution_count": null,
   "id": "ac8e5119",
   "metadata": {},
   "outputs": [],
   "source": [
    "price = []\n",
    "\n",
    "for i in rs:\n",
    "    price.append(i.text)\n",
    "len(price)"
   ]
  },
  {
   "cell_type": "code",
   "execution_count": null,
   "id": "f9aa0762",
   "metadata": {},
   "outputs": [],
   "source": [
    "len(title_tags),len(company_names),len(location),len(experience)"
   ]
  },
  {
   "cell_type": "code",
   "execution_count": null,
   "id": "046550b3",
   "metadata": {},
   "outputs": [],
   "source": [
    "jobs= pd.DataFrame()\n",
    "jobs['Brand'] = brand_name\n",
    "jobs['Description'] = description\n",
    "jobs[' Discount'] = discount\n",
    "jobs['Price'] = price"
   ]
  },
  {
   "cell_type": "code",
   "execution_count": null,
   "id": "dc1b70e5",
   "metadata": {},
   "outputs": [],
   "source": [
    "sunglasses[0:100]"
   ]
  },
  {
   "cell_type": "markdown",
   "id": "7c7eee44",
   "metadata": {},
   "source": [
    "# Flipkart Iphone 11"
   ]
  },
  {
   "cell_type": "code",
   "execution_count": null,
   "id": "0d552883",
   "metadata": {},
   "outputs": [],
   "source": [
    "!pip install selenium"
   ]
  },
  {
   "cell_type": "code",
   "execution_count": null,
   "id": "795aeee7",
   "metadata": {},
   "outputs": [],
   "source": [
    "import selenium\n",
    "from selenium import webdriver\n",
    "from selenium.webdriver.common.by import By\n",
    "import pandas as pd\n",
    "import warnings\n",
    "warnings.filterwarnings(\"ignore\")"
   ]
  },
  {
   "cell_type": "code",
   "execution_count": null,
   "id": "182775fe",
   "metadata": {},
   "outputs": [],
   "source": [
    "driver = webdriver.Chrome(r'C:\\Users\\gurpr\\Downloads\\chromedriver_win32\\chromedriver.exe')"
   ]
  },
  {
   "cell_type": "code",
   "execution_count": null,
   "id": "320ef7f7",
   "metadata": {},
   "outputs": [],
   "source": [
    "url = 'https://www.flipkart.com/'\n",
    "driver.get(url)"
   ]
  },
  {
   "cell_type": "code",
   "execution_count": null,
   "id": "3f90c621",
   "metadata": {},
   "outputs": [],
   "source": [
    "search = driver.find_element(By.XPATH, \"/html/body/div[1]/div/div[1]/div[1]/div[2]/div[2]/form/div/div/input\")\n",
    "search"
   ]
  },
  {
   "cell_type": "code",
   "execution_count": null,
   "id": "9462a991",
   "metadata": {},
   "outputs": [],
   "source": [
    "search.send_keys(\"iphone 11\")"
   ]
  },
  {
   "cell_type": "code",
   "execution_count": null,
   "id": "5b1e193c",
   "metadata": {},
   "outputs": [],
   "source": [
    "search_btn = driver.find_element(By.XPATH, \"/html/body/div[1]/div/div[1]/div[1]/div[2]/div[2]/form/div/button\")\n",
    "search_btn"
   ]
  },
  {
   "cell_type": "code",
   "execution_count": null,
   "id": "faf6cd0d",
   "metadata": {},
   "outputs": [],
   "source": [
    "search_btn.click()"
   ]
  },
  {
   "cell_type": "code",
   "execution_count": null,
   "id": "fdd5e543",
   "metadata": {},
   "outputs": [],
   "source": [
    "mobile = driver.find_element(By.XPATH, \"/html/body/div[1]/div/div[3]/div[1]/div[2]/div[2]\")\n",
    "mobile"
   ]
  },
  {
   "cell_type": "code",
   "execution_count": null,
   "id": "8c1713d9",
   "metadata": {},
   "outputs": [],
   "source": [
    "mobile.click()"
   ]
  },
  {
   "cell_type": "code",
   "execution_count": null,
   "id": "a3af523c",
   "metadata": {},
   "outputs": [],
   "source": [
    "cmt = driver.find_elements(By.XPATH, '/html/body/div[1]/div/div[3]/div[1]/div[2]/div[9]/div[6]/div/div[4]/div[3]/div/div/div[1]/p')\n",
    "len(cmt)"
   ]
  },
  {
   "cell_type": "code",
   "execution_count": null,
   "id": "807a6714",
   "metadata": {},
   "outputs": [],
   "source": [
    "Review_Comments = []\n",
    "\n",
    "for i in cmt:\n",
    "    Review_Comments.append(i.text)\n",
    "len(Review_Comments)"
   ]
  },
  {
   "cell_type": "code",
   "execution_count": null,
   "id": "35b2071e",
   "metadata": {},
   "outputs": [],
   "source": [
    "star = driver.find_elements(By.XPATH, '/html/body/div[1]/div/div[3]/div[1]/div[2]/div[9]/div[6]/div/div[4]/div[3]/div/div/div[1]/div/text()')\n",
    "len(star)"
   ]
  },
  {
   "cell_type": "code",
   "execution_count": null,
   "id": "aedef46f",
   "metadata": {},
   "outputs": [],
   "source": [
    "ratings = []\n",
    "\n",
    "for i in star:\n",
    "    ratings.append(i.text)\n",
    "len(ratings)"
   ]
  },
  {
   "cell_type": "code",
   "execution_count": null,
   "id": "d62585db",
   "metadata": {},
   "outputs": [],
   "source": [
    "desc =driver.find_elements(By.XPATH, '/html/body/div[1]/div/div[3]/div[1]/div[2]/div[9]/div[6]/div/div[4]/div[3]/div/div/div[2]/div/div/div')\n",
    "len(desc)"
   ]
  },
  {
   "cell_type": "code",
   "execution_count": null,
   "id": "0f39bdc6",
   "metadata": {},
   "outputs": [],
   "source": [
    "Full_review = []\n",
    "\n",
    "for i in desc:\n",
    "    Full_review.append(i.text)\n",
    "len(Full_review)"
   ]
  },
  {
   "cell_type": "code",
   "execution_count": null,
   "id": "14593024",
   "metadata": {},
   "outputs": [],
   "source": [
    "iphone11 = pd.DataFrame()\n",
    "iphone11['Star Rating'] = ratings\n",
    "iphone11[' Review Comment'] = Review_Comments\n",
    "iphone11['Full Review'] = Full_review\n",
    "iphone11"
   ]
  },
  {
   "cell_type": "code",
   "execution_count": null,
   "id": "b7c8c0ea",
   "metadata": {},
   "outputs": [],
   "source": [
    "iphone11[0:100]"
   ]
  },
  {
   "cell_type": "markdown",
   "id": "e44417ad",
   "metadata": {},
   "source": [
    "# Flipkart Sneakers"
   ]
  },
  {
   "cell_type": "code",
   "execution_count": null,
   "id": "cbbbf757",
   "metadata": {},
   "outputs": [],
   "source": [
    "!pip install selenium\n",
    "\n",
    "import selenium\n",
    "from selenium import webdriver\n",
    "from selenium.webdriver.common.by import By\n",
    "import pandas as pd\n",
    "import warnings\n",
    "warnings.filterwarnings(\"ignore\")\n",
    "\n",
    "driver = webdriver.Chrome(r'C:\\Users\\gurpr\\Downloads\\chromedriver_win32\\chromedriver.exe')\n",
    "\n",
    "url = 'https://www.flipkart.com/'\n",
    "driver.get(url)\n",
    "\n",
    "search = driver.find_element(By.XPATH, \"/html/body/div[1]/div/div[1]/div[1]/div[2]/div[2]/form/div/div/input\")\n",
    "search\n",
    "\n",
    "search.send_keys(\"Sneakers\")\n",
    "\n",
    "search_btn = driver.find_element(By.XPATH, \"/html/body/div[1]/div/div[1]/div[1]/div[2]/div[2]/form/div/button\")\n",
    "search_btn\n",
    "\n",
    "search_btn.click()\n",
    "\n",
    "name = driver.find_elements(By.XPATH,\"html/body/div[1]/div/div[3]/div[1]/div[2]/div[2]/div/div[2]/div/div[2]/div[1]\")\n",
    "len(name)\n",
    "\n",
    "brand_name = []\n",
    "\n",
    "for i in name:\n",
    "    brand_name.append(i.text)\n",
    "len(brand_name)\n",
    "\n",
    "desc = driver.find_elements(By.XPATH,\"/html/body/div[1]/div/div[3]/div[1]/div[2]/div[2]/div/div[1]/div/div[2]/a[1]\")\n",
    "len(desc)\n",
    "\n",
    "description = []\n",
    "\n",
    "for i in desc:\n",
    "    description.append(i.text)\n",
    "len(description)\n",
    "\n",
    "rs = driver.find_elements(By.XPATH,\"/html/body/div[1]/div/div[3]/div[1]/div[2]/div[2]/div/div[1]/div/div[2]/a[2]/div/div[1]\")\n",
    "len(rs)\n",
    "\n",
    "price = []\n",
    "\n",
    "for i in rs:\n",
    "    price.append(i.text)\n",
    "len(price)\n",
    "\n",
    "sneakers =pd.DataFrame()\n",
    "sneakers[\"Brand\"]= brand_name\n",
    "sneakers[\"Product Description\"]= description\n",
    "sneakers[\"Price\"]= price\n",
    "sneakers"
   ]
  },
  {
   "cell_type": "markdown",
   "id": "1af0b381",
   "metadata": {},
   "source": [
    "# Amazon laptop"
   ]
  },
  {
   "cell_type": "code",
   "execution_count": null,
   "id": "053c32ed",
   "metadata": {},
   "outputs": [],
   "source": [
    "!pip install selenium\n",
    "\n",
    "import selenium\n",
    "from selenium import webdriver\n",
    "from selenium.webdriver.common.by import By\n",
    "import pandas as pd\n",
    "import warnings\n",
    "warnings.filterwarnings(\"ignore\")\n",
    "\n",
    "driver = webdriver.Chrome(r'C:\\Users\\gurpr\\Downloads\\chromedriver_win32\\chromedriver.exe')\n",
    "\n",
    "url = 'https://www.amazon.in/'\n",
    "driver.get(url)\n",
    "\n",
    "search = driver.find_element(By.XPATH, \"/html/body/div[1]/header/div/div[1]/div[2]/div/form/div[2]/div[1]/input\")\n",
    "search\n",
    "\n",
    "search.send_keys(\"Laptop\")\n",
    "\n",
    "search_btn = driver.find_element(By.XPATH, \"/html/body/div[1]/header/div/div[1]/div[2]/div/form/div[3]/div/span/input\")\n",
    "search_btn\n",
    "\n",
    "search_btn.click()\n",
    "\n",
    "cpu=driver.find_element(By.XPATH, \" /html/body/div[1]/div[2]/div[1]/div[2]/div/div[3]/span/div[1]/div/div/div[6]/ul[4]/li[14]/span/a/div/label/i\")\n",
    "cpu\n",
    "\n",
    "cpu.click()\n",
    "\n",
    "name = driver.find_elements(By.XPATH,\"/html/body/div[1]/div[2]/div[1]/div[1]/div/span[3]/div[2]/div[3]/div/div/div/div/div/div[2]/div/div/div[1]/h2/a/span\")\n",
    "len(name)\n",
    "\n",
    "Title = []\n",
    "\n",
    "for i in name:\n",
    "    Title.append(i.text)\n",
    "len(Title)\n",
    "\n",
    "star = driver.find_elements(By.XPATH,\"/html/body/div[1]/div[2]/div[1]/div[1]/div/span[3]/div[2]/div[3]/div/div/div/div/div/div[2]/div/div/div[2]/div/span[1]/span/a/i[1]\")\n",
    "len(star)\n",
    "\n",
    "Raitings = []\n",
    "\n",
    "for i in star:\n",
    "    Raitings.append(i.text)\n",
    "len(Raitings)\n",
    "\n",
    "rs = driver.find_elements(By.XPATH,\"/html/body/div[1]/div[2]/div[1]/div[1]/div/span[3]/div[2]/div[3]/div/div/div/div/div/div[2]/div/div/div[3]/div[1]/div/div[1]/div[1]/a/span[1]/span[2]/span[2]\")\n",
    "len(rs)\n",
    "\n",
    "price = []\n",
    "\n",
    "for i in rs:\n",
    "    price.append(i.text)\n",
    "len(price)\n",
    "\n",
    "laptop =pd.DataFrame()\n",
    "laptop[\"Title\"]= Title\n",
    "laptop[\"Raitings\"]= Raitings\n",
    "laptop[\"Price\"]= price\n",
    "laptop\n",
    "\n",
    "laptop[0:10]"
   ]
  },
  {
   "cell_type": "code",
   "execution_count": null,
   "id": "1a7ff328",
   "metadata": {},
   "outputs": [],
   "source": []
  },
  {
   "cell_type": "code",
   "execution_count": null,
   "id": "549645d2",
   "metadata": {},
   "outputs": [],
   "source": []
  },
  {
   "cell_type": "code",
   "execution_count": null,
   "id": "122b5a21",
   "metadata": {},
   "outputs": [],
   "source": []
  },
  {
   "cell_type": "code",
   "execution_count": null,
   "id": "97bfef49",
   "metadata": {},
   "outputs": [],
   "source": []
  },
  {
   "cell_type": "code",
   "execution_count": null,
   "id": "aeed84d3",
   "metadata": {},
   "outputs": [],
   "source": []
  },
  {
   "cell_type": "code",
   "execution_count": null,
   "id": "df54c687",
   "metadata": {},
   "outputs": [],
   "source": []
  },
  {
   "cell_type": "code",
   "execution_count": null,
   "id": "a5548229",
   "metadata": {},
   "outputs": [],
   "source": []
  },
  {
   "cell_type": "code",
   "execution_count": null,
   "id": "58101316",
   "metadata": {},
   "outputs": [],
   "source": []
  },
  {
   "cell_type": "code",
   "execution_count": null,
   "id": "81a8b86b",
   "metadata": {},
   "outputs": [],
   "source": []
  },
  {
   "cell_type": "code",
   "execution_count": null,
   "id": "bed0b055",
   "metadata": {},
   "outputs": [],
   "source": []
  }
 ],
 "metadata": {
  "kernelspec": {
   "display_name": "Python 3 (ipykernel)",
   "language": "python",
   "name": "python3"
  },
  "language_info": {
   "codemirror_mode": {
    "name": "ipython",
    "version": 3
   },
   "file_extension": ".py",
   "mimetype": "text/x-python",
   "name": "python",
   "nbconvert_exporter": "python",
   "pygments_lexer": "ipython3",
   "version": "3.9.12"
  }
 },
 "nbformat": 4,
 "nbformat_minor": 5
}
